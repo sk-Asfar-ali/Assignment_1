{
 "cells": [
  {
   "cell_type": "markdown",
   "id": "4351ca0d",
   "metadata": {},
   "source": [
    "# Mean using formula"
   ]
  },
  {
   "cell_type": "code",
   "execution_count": 5,
   "id": "fa54b3f6",
   "metadata": {},
   "outputs": [
    {
     "name": "stdout",
     "output_type": "stream",
     "text": [
      "Mean is:  44.285714285714285\n"
     ]
    }
   ],
   "source": [
    "l=[10,20,30,80,50,70,50]\n",
    "n=len(l)\n",
    "s=0\n",
    "for i in range(0,n):\n",
    "    s=s+l[i]\n",
    "mean=s/n\n",
    "print(\"Mean is: \",mean)"
   ]
  },
  {
   "cell_type": "markdown",
   "id": "1a66c1e5",
   "metadata": {},
   "source": [
    "# Mean using library"
   ]
  },
  {
   "cell_type": "code",
   "execution_count": 6,
   "id": "0ff16d44",
   "metadata": {},
   "outputs": [
    {
     "name": "stdout",
     "output_type": "stream",
     "text": [
      "Mean is:  44.285714285714285\n"
     ]
    }
   ],
   "source": [
    "import numpy as np\n",
    "mean=np.mean(l)\n",
    "print(\"Mean is: \",mean)"
   ]
  },
  {
   "cell_type": "markdown",
   "id": "8730be21",
   "metadata": {},
   "source": [
    "# Median using formula"
   ]
  },
  {
   "cell_type": "code",
   "execution_count": 7,
   "id": "bf214fe1",
   "metadata": {},
   "outputs": [
    {
     "name": "stdout",
     "output_type": "stream",
     "text": [
      "Median is: 50\n"
     ]
    }
   ],
   "source": [
    "l.sort()\n",
    "if n%2 == 0:\n",
    "    m1=l[n//2]\n",
    "    m2=l[(n//2)-1]\n",
    "    median=(m1+m2)//2\n",
    "else:\n",
    "    median=l[n//2]\n",
    "print(\"Median is:\", median)    "
   ]
  },
  {
   "cell_type": "markdown",
   "id": "80c987e2",
   "metadata": {},
   "source": [
    "# Median using library"
   ]
  },
  {
   "cell_type": "code",
   "execution_count": 8,
   "id": "0368514c",
   "metadata": {},
   "outputs": [
    {
     "name": "stdout",
     "output_type": "stream",
     "text": [
      "Median is: 50.0\n"
     ]
    }
   ],
   "source": [
    "median = np.median(l)\n",
    "print(\"Median is:\", median) "
   ]
  },
  {
   "cell_type": "markdown",
   "id": "86885c88",
   "metadata": {},
   "source": [
    "# Mode using formula"
   ]
  },
  {
   "cell_type": "code",
   "execution_count": 11,
   "id": "76b39f72",
   "metadata": {},
   "outputs": [
    {
     "name": "stdout",
     "output_type": "stream",
     "text": [
      "Mode is:  {50}\n"
     ]
    }
   ],
   "source": [
    "unique=[]\n",
    "mode=[]\n",
    "for i in l:\n",
    "    if i not in unique:\n",
    "        unique.append(i)\n",
    "    else:\n",
    "        mode.append(i)\n",
    "print(\"Mode is: \",set(mode))        "
   ]
  },
  {
   "cell_type": "markdown",
   "id": "1a546286",
   "metadata": {},
   "source": [
    "# Mode using library"
   ]
  },
  {
   "cell_type": "code",
   "execution_count": 12,
   "id": "84e18431",
   "metadata": {},
   "outputs": [
    {
     "name": "stdout",
     "output_type": "stream",
     "text": [
      "Mode is:  {50, 2}\n"
     ]
    }
   ],
   "source": [
    "from scipy import stats\n",
    "mode = stats.mode(l)\n",
    "print(\"Mode is: \",set(mode))"
   ]
  },
  {
   "cell_type": "markdown",
   "id": "895fde37",
   "metadata": {},
   "source": [
    "# Variance using formula"
   ]
  },
  {
   "cell_type": "code",
   "execution_count": 14,
   "id": "9544bd56",
   "metadata": {},
   "outputs": [
    {
     "name": "stdout",
     "output_type": "stream",
     "text": [
      "Variance is:  567.3469387755102\n"
     ]
    }
   ],
   "source": [
    "l1=[]\n",
    "s=0\n",
    "s1=0\n",
    "for i in range(0,n):\n",
    "    l1.append(l[i]-mean)\n",
    "m=len(l1)\n",
    "for j in range(0,m):\n",
    "    l1[j]=l1[j]**2\n",
    "    s1=s1+l1[j]\n",
    "variance=s1/n\n",
    "print(\"Variance is: \",variance)"
   ]
  },
  {
   "cell_type": "markdown",
   "id": "de9fb6f3",
   "metadata": {},
   "source": [
    "# Variance using library"
   ]
  },
  {
   "cell_type": "code",
   "execution_count": 15,
   "id": "a544960b",
   "metadata": {},
   "outputs": [
    {
     "name": "stdout",
     "output_type": "stream",
     "text": [
      "Variance is: 567.3469387755102\n"
     ]
    }
   ],
   "source": [
    "variance = np.var(l)\n",
    "\n",
    "print(\"Variance is:\", variance)"
   ]
  },
  {
   "cell_type": "markdown",
   "id": "2e981467",
   "metadata": {},
   "source": [
    "# Standard deviation"
   ]
  },
  {
   "cell_type": "code",
   "execution_count": 16,
   "id": "5ad4b820",
   "metadata": {},
   "outputs": [
    {
     "name": "stdout",
     "output_type": "stream",
     "text": [
      "Standard Deviation is : 23.81904571504724\n"
     ]
    }
   ],
   "source": [
    "std_deviation = np.std(l)\n",
    "\n",
    "print(\"Standard Deviation is :\", std_deviation)"
   ]
  }
 ],
 "metadata": {
  "kernelspec": {
   "display_name": "Python 3 (ipykernel)",
   "language": "python",
   "name": "python3"
  },
  "language_info": {
   "codemirror_mode": {
    "name": "ipython",
    "version": 3
   },
   "file_extension": ".py",
   "mimetype": "text/x-python",
   "name": "python",
   "nbconvert_exporter": "python",
   "pygments_lexer": "ipython3",
   "version": "3.9.17"
  }
 },
 "nbformat": 4,
 "nbformat_minor": 5
}
